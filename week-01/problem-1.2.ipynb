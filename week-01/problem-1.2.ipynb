{
 "cells": [
  {
   "cell_type": "markdown",
   "metadata": {},
   "source": [
    "# Problem 1.2\n",
    "\n",
    "This notebook is to help you get started with problem 1.2."
   ]
  },
  {
   "cell_type": "code",
   "execution_count": 1,
   "metadata": {},
   "outputs": [],
   "source": [
    "import numpy as np\n",
    "import matplotlib.pyplot as plt"
   ]
  },
  {
   "cell_type": "markdown",
   "metadata": {},
   "source": [
    "## Setup\n",
    "\n",
    "Something like this should probably be near the top of any Jupyter notebook you create for this course."
   ]
  },
  {
   "cell_type": "markdown",
   "metadata": {},
   "source": [
    "## 1.2(a)\n",
    "\n",
    "Here, you are to make _linear_ plots of two functions.  First, use NumPy to create an array called `x` that covers the range of interest."
   ]
  },
  {
   "cell_type": "code",
   "execution_count": 2,
   "metadata": {},
   "outputs": [],
   "source": [
    "x = np.array(range(2,7))"
   ]
  },
  {
   "cell_type": "markdown",
   "metadata": {},
   "source": [
    "Next, use the functions `np.exp` and the operation `**` (raise to a power) to create the two function arrays."
   ]
  },
  {
   "cell_type": "code",
   "execution_count": 3,
   "metadata": {},
   "outputs": [],
   "source": [
    "f1 = np.exp(x)\n",
    "f2 = x ** 3.5"
   ]
  },
  {
   "cell_type": "markdown",
   "metadata": {},
   "source": [
    "Now use `plt.plot` to graph the two functions on the same axes.  Be sure to label the axes.  Add a title and a legend for style points."
   ]
  },
  {
   "cell_type": "code",
   "execution_count": 4,
   "metadata": {},
   "outputs": [
    {
     "data": {
      "image/png": "[encoded data removed]",
      "text/plain": [
       "<Figure size 432x288 with 1 Axes>"
      ]
     },
     "metadata": {
      "needs_background": "light"
     },
     "output_type": "display_data"
    }
   ],
   "source": [
    "plt.plot(x,f1, label = 'f1')\n",
    "plt.plot(x,f2, label = 'f2')\n",
    "plt.xlabel('x axis')\n",
    "plt.ylabel('y axis')\n",
    "plt.title('functions 1 and 2')\n",
    "plt.show()"
   ]
  },
  {
   "cell_type": "markdown",
   "metadata": {},
   "source": [
    "## 1.2(b)\n",
    "\n",
    "Here, you are to make a _semilog_ plot of the two functions.  You do not have to create any new arrays.  Python remembers what they are.  We only need to create a new plot.\n",
    "\n",
    "Use `plt.semilogy` to plot $\\log y$ vs $x$.  As before, plot both functions on the same axes.  Be sure to label the axes.  Add a title and a legend for style points."
   ]
  },
  {
   "cell_type": "code",
   "execution_count": null,
   "metadata": {},
   "outputs": [],
   "source": []
  },
  {
   "cell_type": "markdown",
   "metadata": {},
   "source": [
    "From the text of the problem, \"_What outstanding feature of the exponential function jumps out in this representation?_\"\n",
    "\n",
    "Use the cell below (which currently says \"Type Markdown and LaTeX\") to answer.  Note that, unlike the other cells in the notebook, this one is a Markdown cell.  When you run it, you will see formatted text rather than Python code and output.\n",
    "\n",
    "-----"
   ]
  },
  {
   "cell_type": "markdown",
   "metadata": {},
   "source": []
  },
  {
   "cell_type": "markdown",
   "metadata": {},
   "source": [
    "-----\n",
    "\n",
    "## 1.2(c)\n",
    "\n",
    "Here, you are to make a _log-log_ plot of the two functions.  You do not have to create any new arrays.  Python remembers what they are.  We only need to create a new plot.\n",
    "\n",
    "Use `plt.loglog` to plot $\\log y$ vs $\\log x$.  As before, plot both functions on the same axes.  Be sure to label the axes.  Add a title and a legend for style points."
   ]
  },
  {
   "cell_type": "code",
   "execution_count": null,
   "metadata": {},
   "outputs": [],
   "source": []
  },
  {
   "cell_type": "markdown",
   "metadata": {},
   "source": [
    "Comment on this plot.\n",
    "\n",
    "-----"
   ]
  },
  {
   "cell_type": "markdown",
   "metadata": {},
   "source": []
  },
  {
   "cell_type": "markdown",
   "metadata": {},
   "source": [
    "-----\n",
    "\n",
    "## Summary\n",
    "\n",
    "Use the space below to briefly summarize what you learned or further comment on the problem.\n",
    "\n",
    "-----"
   ]
  },
  {
   "cell_type": "markdown",
   "metadata": {},
   "source": []
  }
 ],
 "metadata": {
  "kernelspec": {
   "display_name": "Python 3",
   "language": "python",
   "name": "python3"
  },
  "language_info": {
   "codemirror_mode": {
    "name": "ipython",
    "version": 3
   },
   "file_extension": ".py",
   "mimetype": "text/x-python",
   "name": "python",
   "nbconvert_exporter": "python",
   "pygments_lexer": "ipython3",
   "version": "3.8.5"
  }
 },
 "nbformat": 4,
 "nbformat_minor": 5
}
