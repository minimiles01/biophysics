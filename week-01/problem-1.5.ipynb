{
 "cells": [
  {
   "cell_type": "markdown",
   "metadata": {},
   "source": [
    "# Problem 1.5\n",
    "\n",
    "This problem asks you to do several useful computational tasks:\n",
    "\n",
    "- import a data set\n",
    "- plot the data points\n",
    "- plot a function through the data points\n",
    "- adjust the parameters of a function to get a better fit\n",
    "\n",
    "Since this is only Week 1, you get more than a blank page to start with.\n",
    "\n",
    "We start the same way as always, though."
   ]
  },
  {
   "cell_type": "code",
   "execution_count": 1,
   "metadata": {},
   "outputs": [],
   "source": [
    "import numpy as np\n",
    "import matplotlib.pyplot as plt"
   ]
  },
  {
   "cell_type": "markdown",
   "metadata": {},
   "source": [
    "## 1.5(a)\n",
    "\n",
    "We need to import the data set and plot it.  You can find the data set in the `pmls-data` repository, in `02population`.  Dr. Kinder has copied the relevant files into _this_ folder for this week, so you can focus on working with data rather than finding it.  Later, we'll learn how to find a folder anywhere on your computer.\n",
    "\n",
    "The data file is called `population.csv`.  Open the file `README.txt` to see what is in the data set.\n",
    "\n",
    "Use either `np.loadtxt` to load the data into a numpy array called `data`.  Then, split this array in two for plotting.  Use either _array slicing_ or _unpacking_."
   ]
  },
  {
   "cell_type": "code",
   "execution_count": 2,
   "metadata": {},
   "outputs": [],
   "source": [
    "# Load the array.\n",
    "#data = np.loadtxt('population.csv')\n",
    "time, population = np.loadtxt('population.csv', delimiter = ',', unpack = True)"
   ]
  },
  {
   "cell_type": "markdown",
   "metadata": {},
   "source": [
    "Plot the data points.  (Use points, instead of a line.  This is a convention that indicates you are plotting actual data, not a theoretical prediction or a mathematical function.)  Label the axes, and include units."
   ]
  },
  {
   "cell_type": "code",
   "execution_count": 3,
   "metadata": {},
   "outputs": [
    {
     "data": {
      "image/png": "[encoded data removed]",
      "text/plain": [
       "<Figure size 432x288 with 1 Axes>"
      ]
     },
     "metadata": {
      "needs_background": "light"
     },
     "output_type": "display_data"
    }
   ],
   "source": [
    "plt.scatter(time, population, label = 'population')\n",
    "plt.xlabel = 'years CE'\n",
    "plt.ylabel = 'population (millions)'\n",
    "plt.title = 'Population over time'\n",
    "plt.show()"
   ]
  },
  {
   "cell_type": "markdown",
   "metadata": {},
   "source": [
    "## 1.5(b)\n",
    "\n",
    "Now we are going to plot the data points and a model on the same axes.\n",
    "\n",
    "To plot the function, create an array for a variable `t` that covers the relevant time interval (using `np.linspace`), and an array called `f` that contains the values of the function."
   ]
  },
  {
   "cell_type": "code",
   "execution_count": 4,
   "metadata": {},
   "outputs": [],
   "source": [
    "f = 100000/(2050-time)"
   ]
  },
  {
   "cell_type": "markdown",
   "metadata": {},
   "source": [
    "Now, plot the data again --- as points.  On the same axes, plot the function given in the problem --- as a line.  Include a legend in your plot, and label the axes."
   ]
  },
  {
   "cell_type": "code",
   "execution_count": 5,
   "metadata": {},
   "outputs": [
    {
     "data": {
      "image/png": "[encoded data removed]",
      "text/plain": [
       "<Figure size 432x288 with 1 Axes>"
      ]
     },
     "metadata": {
      "needs_background": "light"
     },
     "output_type": "display_data"
    }
   ],
   "source": [
    "plt.scatter(time, population, label = 'population')\n",
    "plt.plot(time, f, label = 'fit curve')\n",
    "plt.xlabel = 'years CE'\n",
    "plt.ylabel = 'population (millions)'\n",
    "plt.title = 'Population over time'\n",
    "plt.legend()\n",
    "plt.yscale('log')\n",
    "plt.xscale('log')\n",
    "plt.show()"
   ]
  },
  {
   "cell_type": "markdown",
   "metadata": {},
   "source": [
    "The function is of the general form $f(t) = \\dfrac{A}{B-t}$.  Use the cell below to experiment with different parameter values for the model function and try to get a better fit to the data.  Repeatedly change the values of `A` and `B` below and run the cell to see different plots.\n",
    "\n",
    "Leave your best looking fit in the cell when you submit your final version of this problem to GitHub."
   ]
  },
  {
   "cell_type": "code",
   "execution_count": 8,
   "metadata": {},
   "outputs": [
    {
     "data": {
      "image/png": "[encoded data removed]",
      "text/plain": [
       "<Figure size 432x288 with 1 Axes>"
      ]
     },
     "metadata": {
      "needs_background": "light"
     },
     "output_type": "display_data"
    }
   ],
   "source": [
    "A = 325000\n",
    "B = 2100\n",
    "f = A/(B-time)\n",
    "\n",
    "plt.scatter(time, population, label = 'population')\n",
    "plt.plot(time, f, label = 'fit curve')\n",
    "plt.xlabel = 'years CE'\n",
    "plt.ylabel = 'population (millions)'\n",
    "plt.title = 'Population over time'\n",
    "plt.legend()\n",
    "plt.yscale('log')\n",
    "plt.xscale('log')\n",
    "plt.show()"
   ]
  },
  {
   "cell_type": "markdown",
   "metadata": {},
   "source": [
    "## 1.5(c)\n",
    "\n",
    "From the text of the problem ...\n",
    "\n",
    "> Do you think this is a good model for the data? That is, does it tell us anything interesting beyond roughly reproducing the data points? Does it have any obvious limitations on its domain of validity? Explain.\n",
    "\n",
    "Type your thoughts in the cell below.\n",
    "\n",
    "-----"
   ]
  },
  {
   "cell_type": "markdown",
   "metadata": {},
   "source": [
    "The model predicts the data somewhat accurately but only after some tweaking. I am not confident that this model would properly predict future growth because there is no bounding factor, which all populations have due to natural limits. Furthermore, because I was unable to collapse the approximation into linear form, it does not reveal any useful trends (ie. positive curvature) that would otherwise be difficult to spot."
   ]
  }
 ],
 "metadata": {
  "kernelspec": {
   "display_name": "Python 3",
   "language": "python",
   "name": "python3"
  },
  "language_info": {
   "codemirror_mode": {
    "name": "ipython",
    "version": 3
   },
   "file_extension": ".py",
   "mimetype": "text/x-python",
   "name": "python",
   "nbconvert_exporter": "python",
   "pygments_lexer": "ipython3",
   "version": "3.8.5"
  }
 },
 "nbformat": 4,
 "nbformat_minor": 5
}
